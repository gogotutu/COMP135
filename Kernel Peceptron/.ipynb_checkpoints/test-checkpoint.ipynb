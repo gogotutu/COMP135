{
 "cells": [
  {
   "cell_type": "markdown",
   "metadata": {},
   "source": [
    "# COMP 135 Empirical/Programming Assignment 4\n",
    "## Testing Script"
   ]
  },
  {
   "cell_type": "code",
   "execution_count": 1,
   "metadata": {
    "collapsed": true
   },
   "outputs": [],
   "source": [
    "%matplotlib inline\n",
    "import sys\n",
    "import numpy as np\n",
    "import matplotlib.pyplot as plt\n",
    "import matplotlib\n",
    "import pandas as pd"
   ]
  },
  {
   "cell_type": "code",
   "execution_count": 2,
   "metadata": {
    "collapsed": true
   },
   "outputs": [],
   "source": [
    "def read_arff(file_name):\n",
    "\n",
    "    file = open(file_name)\n",
    "    sample = []\n",
    "    for line in file:\n",
    "        if line != \"\" and (line[0].isdigit() or line[0] == '-'):\n",
    "            line = line.strip(\"\\n\")\n",
    "            line = line.split(',') \n",
    "            sample.append(line)\n",
    "    for line in sample:\n",
    "        for i in range(0, len(line)):\n",
    "            line[i] = float(line[i])\n",
    "    return np.array(sample)"
   ]
  },
  {
   "cell_type": "code",
   "execution_count": 3,
   "metadata": {
    "collapsed": false
   },
   "outputs": [],
   "source": [
    "def PwM_Primal(file):\n",
    "    \n",
    "    train_filename = file + 'Training.arff'\n",
    "    test_filename = file + 'Test.arff'\n",
    "    train_file = read_arff(train_filename)\n",
    "    test_file = read_arff(test_filename)\n",
    "    \n",
    "    N = train_file.shape[0]\n",
    "    M = train_file.shape[1]\n",
    "    N_test = test_file.shape[0]\n",
    "\n",
    "    train_data = train_file[:,0:M-1]\n",
    "    test_data = test_file[:,0:M-1]\n",
    "    train_data = np.concatenate((np.ones([N,1]),train_data), axis = 1)\n",
    "    test_data = np.concatenate((np.ones([N_test,1]),test_data), axis = 1)\n",
    "    train_label = train_file[:,[-1]]\n",
    "    test_label = test_file[:,[-1]]\n",
    "\n",
    "    A = 0\n",
    "    for i in range(N):\n",
    "        A += np.linalg.norm(train_data[i])\n",
    "    A = A/N\n",
    "\n",
    "    pi = 0.1 * A\n",
    "    I = 50\n",
    "    \n",
    "    w = np.zeros([1,M])\n",
    "    for k in range(I):\n",
    "        for i in range(N):\n",
    "            O = np.sign(w.dot(train_data[[i]].T))\n",
    "            if train_label[[i]] * w.dot(train_data[[i]].T) < pi:\n",
    "                w += train_label[[i]] * train_data[[i]]\n",
    "\n",
    "    acc = 0\n",
    "    for i in range(N_test):\n",
    "        if np.sign(w.dot(test_data[[i]].T)) == test_label[[i]]:\n",
    "            acc += 1\n",
    "    acc = float(acc)/N_test\n",
    "    return acc"
   ]
  },
  {
   "cell_type": "code",
   "execution_count": 4,
   "metadata": {
    "collapsed": true
   },
   "outputs": [],
   "source": [
    "def K_POLY(x_k,x_i,d):\n",
    "    return (x_k.dot(x_i.T) + 1)**d"
   ]
  },
  {
   "cell_type": "code",
   "execution_count": 5,
   "metadata": {
    "collapsed": true
   },
   "outputs": [],
   "source": [
    "def K_RBF(x_k,x_i,s):\n",
    "    return np.exp(-np.linalg.norm(x_k - x_i)**2 / (2*s**2))"
   ]
  },
  {
   "cell_type": "code",
   "execution_count": 6,
   "metadata": {
    "collapsed": false
   },
   "outputs": [],
   "source": [
    "def PwM_POLY(file,d):\n",
    "\n",
    "    train_filename = file + 'Training.arff'\n",
    "    test_filename = file + 'Test.arff'\n",
    "\n",
    "    train_file = read_arff(train_filename)\n",
    "    test_file = read_arff(test_filename)\n",
    "    N = train_file.shape[0]\n",
    "    M = train_file.shape[1] - 1\n",
    "    N_test = test_file.shape[0]\n",
    "\n",
    "    train_data = train_file[:,0:M]\n",
    "    test_data = test_file[:,0:M]\n",
    "    train_label = train_file[:,[-1]]\n",
    "    test_label = test_file[:,[-1]]\n",
    "    x = train_data\n",
    "    y = train_label\n",
    "\n",
    "    A = 0\n",
    "    for i in range(N):\n",
    "        A += K_POLY(x[[i]],x[[i]],d)**(1.0/2)\n",
    "    A = A/N\n",
    "\n",
    "    pi = 0.1 * A\n",
    "    I = 50\n",
    "\n",
    "    alpha = np.zeros([N,1])\n",
    "    w = np.zeros([1,M])\n",
    "    K = np.zeros([N,N])\n",
    "    for k in range(N):\n",
    "        for i in range(N):\n",
    "            K[k,i] = K_POLY(x[[k]],x[[i]],d)\n",
    "\n",
    "    for iter in range(I):\n",
    "        for i in range(N):\n",
    "            S = 0\n",
    "            for k in range(N):\n",
    "                S += alpha[[k]] * y[[k]] * K[k,i]\n",
    "            O = np.sign(S)\n",
    "            if y[[i]] * S < pi:\n",
    "                alpha[[i]] += 1\n",
    "\n",
    "    acc = 0\n",
    "    for i in range(N_test):\n",
    "        S = 0\n",
    "        for k in range(N):\n",
    "            S += alpha[[k]] * y[[k]] * K_POLY(x[[k]],test_data[[i]],d)\n",
    "        O = np.sign(S)\n",
    "        if O == test_label[[i]]:\n",
    "            acc += 1\n",
    "    acc = float(acc)/N_test\n",
    "    return acc"
   ]
  },
  {
   "cell_type": "code",
   "execution_count": 7,
   "metadata": {
    "collapsed": false
   },
   "outputs": [],
   "source": [
    "def PwM_RBF(file,s):\n",
    "\n",
    "    train_filename = file + 'Training.arff'\n",
    "    test_filename = file + 'Test.arff'\n",
    "\n",
    "    train_file = read_arff(train_filename)\n",
    "    test_file = read_arff(test_filename)\n",
    "    N = train_file.shape[0]\n",
    "    M = train_file.shape[1] - 1\n",
    "    N_test = test_file.shape[0]\n",
    "\n",
    "    train_data = train_file[:,0:M]\n",
    "    test_data = test_file[:,0:M]\n",
    "    train_label = train_file[:,[-1]]\n",
    "    test_label = test_file[:,[-1]]\n",
    "    x = train_data\n",
    "    y = train_label\n",
    "\n",
    "    A = 0\n",
    "    for i in range(N):\n",
    "        A += K_RBF(x[[i]],x[[i]],s)**(1.0/2)\n",
    "    A = A/N\n",
    "\n",
    "    pi = 0.1 * A\n",
    "    I = 50\n",
    "\n",
    "    alpha = np.zeros([N,1])\n",
    "    w = np.zeros([1,M])\n",
    "    K = np.zeros([N,N])\n",
    "    for k in range(N):\n",
    "        for i in range(N):\n",
    "            K[k,i] = K_RBF(x[[k]],x[[i]],s)\n",
    "\n",
    "    for iter in range(I):\n",
    "        for i in range(N):\n",
    "            S = 0\n",
    "            for k in range(N):\n",
    "                S += alpha[[k]] * y[[k]] * K[k,i]\n",
    "            O = np.sign(S)\n",
    "            if y[[i]] * S < pi:\n",
    "                alpha[[i]] += 1\n",
    "\n",
    "    acc = 0\n",
    "    for i in range(N_test):\n",
    "        S = 0\n",
    "        for k in range(N):\n",
    "            S += alpha[[k]] * y[[k]] * K_RBF(x[[k]],test_data[[i]],s)\n",
    "        O = np.sign(S)\n",
    "        if O == test_label[[i]]:\n",
    "            acc += 1\n",
    "    acc = float(acc)/N_test\n",
    "    return acc"
   ]
  },
  {
   "cell_type": "code",
   "execution_count": 8,
   "metadata": {
    "collapsed": false
   },
   "outputs": [],
   "source": [
    "s_vec = [0.1, 0.5, 1, 2, 5, 10]\n",
    "d_vec = [1, 2, 3, 4, 5]\n",
    "\n",
    "def print_performance(filename):\n",
    "    acc_primal = PwM_Primal(filename)\n",
    "    acc_POLY = []\n",
    "    for i in range(5):\n",
    "        acc_POLY.append(PwM_POLY(filename,d_vec[i]))\n",
    "    acc_RBF = []\n",
    "    for i in range(6):\n",
    "        acc_RBF.append(PwM_RBF(filename,s_vec[i]))\n",
    "    print \"Primal: \", acc_primal\n",
    "    print \"Polynomial: \", acc_POLY\n",
    "    print \"RBF: \", acc_RBF"
   ]
  },
  {
   "cell_type": "code",
   "execution_count": null,
   "metadata": {
    "collapsed": true
   },
   "outputs": [],
   "source": [
    "print_performance(\"additional\")"
   ]
  }
 ],
 "metadata": {
  "anaconda-cloud": {},
  "kernelspec": {
   "display_name": "Python [Root]",
   "language": "python",
   "name": "Python [Root]"
  },
  "language_info": {
   "codemirror_mode": {
    "name": "ipython",
    "version": 2
   },
   "file_extension": ".py",
   "mimetype": "text/x-python",
   "name": "python",
   "nbconvert_exporter": "python",
   "pygments_lexer": "ipython2",
   "version": "2.7.11"
  }
 },
 "nbformat": 4,
 "nbformat_minor": 0
}
